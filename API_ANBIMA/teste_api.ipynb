{
 "cells": [
  {
   "cell_type": "code",
   "execution_count": 5,
   "metadata": {},
   "outputs": [],
   "source": [
    "# https://developers.anbima.com.br/pt/visao-geral/como-acessar-nossas-apis/\n",
    "# https://developers.anbima.com.br/pt/\n",
    "\n",
    "import requests, requests.auth\n"
   ]
  },
  {
   "cell_type": "markdown",
   "metadata": {},
   "source": [
    "- para conseguir o acces token é necessário fazer um post, conforme instruções da url:\n",
    "https://developers.anbima.com.br/pt/visao-geral/autenticacao/#oauth2\n",
    "\n",
    "- fiz no postman e deu certo (porém tem um tempo limitado, aparentemente 10 min):\n"
   ]
  },
  {
   "cell_type": "code",
   "execution_count": 6,
   "metadata": {},
   "outputs": [],
   "source": [
    "#url de produção:\n",
    "producao = 'https://api.anbima.com.br'\n",
    "\n",
    "#url de sandbox:\n",
    "sandbox = 'https://api-sandbox.anbima.com.br'\n"
   ]
  },
  {
   "cell_type": "markdown",
   "metadata": {},
   "source": [
    "###################\n",
    "Fazendo o post direto no python_branch\n",
    "###################"
   ]
  },
  {
   "cell_type": "code",
   "execution_count": 7,
   "metadata": {},
   "outputs": [
    {
     "data": {
      "text/plain": [
       "'6i5X1tBpz32L'"
      ]
     },
     "execution_count": 7,
     "metadata": {},
     "output_type": "execute_result"
    }
   ],
   "source": [
    "import requests, requests.auth\n",
    "\n",
    "# Authentication\n",
    "client_id = 'rKrame30WqmO'\n",
    "client_secret = 'dt38kBXtCCGe'\n",
    "\n",
    "# Parameters\n",
    "url_token = 'https://api.anbima.com.br/oauth/access-token'\n",
    "parameters = {\"grant_type\": \"client_credentials\"}\n",
    "\n",
    "# Request\n",
    "auth = requests.auth.HTTPBasicAuth(client_id, client_secret)\n",
    "r = requests.post(url_token, data=parameters, auth=auth)\n",
    "\n",
    "access_token = r.json()['access_token']\n",
    "access_token\n"
   ]
  },
  {
   "cell_type": "code",
   "execution_count": 15,
   "metadata": {},
   "outputs": [
    {
     "data": {
      "text/plain": [
       "'https://api-sandbox.anbima.com.br/feed/precos-indices/v1/indices-mais/carteira-teorica-ida'"
      ]
     },
     "execution_count": 15,
     "metadata": {},
     "output_type": "execute_result"
    }
   ],
   "source": [
    "#url = 'https://[ambiente]/[produto]/[versão]/[pacote]/[recursos]/[parâmetros]'\n",
    "ambiente_producao = 'api.anbima.com.br'\n",
    "ambiente_sandbox = 'api-sandbox.anbima.com.br'\n",
    "produto = 'feed/precos-indices' # Um ou outro?\n",
    "# versão: v1 (Preços e Índices) e v2 (IMA para ETFs)\n",
    "versao = 'v1'\n",
    "pacote = 'indices-mais'\n",
    "recursos = 'carteira-teorica-ida'\n",
    "parametros = '2019-01-05'\n",
    "#url = f'https://{ambiente_sandbox}/{produto}/{versao}/{pacote}/{recursos}/{parametros}'\n",
    "url = f'https://{ambiente_sandbox}/{produto}/{versao}/{pacote}/{recursos}'\n",
    "url"
   ]
  },
  {
   "cell_type": "code",
   "execution_count": 13,
   "metadata": {},
   "outputs": [
    {
     "data": {
      "text/plain": [
       "'https://api-sandbox.anbima.com.br/feed/precos-indices/v1/titulos-publicos/mercado-secundario-TPF/2019-01-05'"
      ]
     },
     "execution_count": 13,
     "metadata": {},
     "output_type": "execute_result"
    }
   ],
   "source": [
    "pacote = 'titulos-publicos'\n",
    "recursos = 'mercado-secundario-TPF'\n",
    "\n",
    "url = f'https://{ambiente_sandbox}/{produto}/{versao}/{pacote}/{recursos}/{parametros}'\n",
    "url"
   ]
  },
  {
   "cell_type": "code",
   "execution_count": 50,
   "metadata": {},
   "outputs": [
    {
     "data": {
      "text/plain": [
       "<Response [404]>"
      ]
     },
     "execution_count": 50,
     "metadata": {},
     "output_type": "execute_result"
    }
   ],
   "source": [
    "import requests, requests.auth\n",
    "\n",
    "#url = f'https://{ambiente_sandbox}/feed/precos-indices/v1/titulos-publicos/mercado-secundario-TPF'\n",
    "#parameters = {\"data\": \"2019-01-05\"}\n",
    "\n",
    "# Authentication\n",
    "client_id = 'rKrame30WqmO'\n",
    "client_secret = 'dt38kBXtCCGe'\n",
    "\n",
    "\n",
    "# Request\n",
    "auth = requests.auth.HTTPBasicAuth(client_id, client_secret)\n",
    "r = requests.get(url, auth=auth, params=parameters)\n",
    "\n",
    "r\n",
    "\n"
   ]
  },
  {
   "cell_type": "code",
   "execution_count": null,
   "metadata": {},
   "outputs": [],
   "source": [
    "def get_api_data(url, access_token):\n",
    "    headers = {'Authorization': 'Bearer ' + access_token}\n",
    "    r = requests.get(url, headers=headers)\n",
    "    return r.json()"
   ]
  }
 ],
 "metadata": {
  "kernelspec": {
   "display_name": "Python 3.10.7 64-bit (microsoft store)",
   "language": "python",
   "name": "python3"
  },
  "language_info": {
   "codemirror_mode": {
    "name": "ipython",
    "version": 3
   },
   "file_extension": ".py",
   "mimetype": "text/x-python",
   "name": "python",
   "nbconvert_exporter": "python",
   "pygments_lexer": "ipython3",
   "version": "3.10.7"
  },
  "orig_nbformat": 4,
  "vscode": {
   "interpreter": {
    "hash": "47afe3266d50fcc6710271c7579ac4ea8d6e4ce73bb58c20121915e044b5cfef"
   }
  }
 },
 "nbformat": 4,
 "nbformat_minor": 2
}
